{
 "cells": [
  {
   "cell_type": "markdown",
   "id": "12ce89e8",
   "metadata": {},
   "source": [
    "### 1. Write a Python program to convert kilometers to miles?"
   ]
  },
  {
   "cell_type": "code",
   "execution_count": 1,
   "id": "af3e6854",
   "metadata": {},
   "outputs": [
    {
     "name": "stdout",
     "output_type": "stream",
     "text": [
      "Enter Kilometers value10\n",
      "The Equlaent miles are  6.2137119\n"
     ]
    }
   ],
   "source": [
    "kilo_meters=int(input(\"Enter Kilometers value\"))\n",
    "# 1 kilo meter is equal to 0.62137119\n",
    "print(\"The Equlaent miles are \",kilo_meters*0.62137119)"
   ]
  },
  {
   "cell_type": "markdown",
   "id": "6bd806d1",
   "metadata": {},
   "source": [
    "###  2.Write a Python program to convert Celsius to Fahrenheit?"
   ]
  },
  {
   "cell_type": "code",
   "execution_count": 5,
   "id": "b756d02d",
   "metadata": {},
   "outputs": [
    {
     "name": "stdout",
     "output_type": "stream",
     "text": [
      "Enter Celsius5\n",
      "The Equlaent Fahrenheit value is  41.0\n"
     ]
    }
   ],
   "source": [
    "celsius=int(input(\"Enter Celsius\"))\n",
    "print(\"The Equlaent Fahrenheit value is \",celsius*(9/5)+32)"
   ]
  },
  {
   "cell_type": "markdown",
   "id": "b3ad4f1e",
   "metadata": {},
   "source": [
    "###  3. Write a Python program to display calendar?"
   ]
  },
  {
   "cell_type": "code",
   "execution_count": 9,
   "id": "b064d7bc",
   "metadata": {},
   "outputs": [
    {
     "name": "stdout",
     "output_type": "stream",
     "text": [
      "Enter year and month2000 8\n",
      "----------------Specific month-----------------\n",
      "    August 2000\n",
      "Mo Tu We Th Fr Sa Su\n",
      "    1  2  3  4  5  6\n",
      " 7  8  9 10 11 12 13\n",
      "14 15 16 17 18 19 20\n",
      "21 22 23 24 25 26 27\n",
      "28 29 30 31\n",
      "\n",
      "----------------Specific year------------------\n",
      "                                  2000\n",
      "\n",
      "      January                   February                   March\n",
      "Mo Tu We Th Fr Sa Su      Mo Tu We Th Fr Sa Su      Mo Tu We Th Fr Sa Su\n",
      "                1  2          1  2  3  4  5  6             1  2  3  4  5\n",
      " 3  4  5  6  7  8  9       7  8  9 10 11 12 13       6  7  8  9 10 11 12\n",
      "10 11 12 13 14 15 16      14 15 16 17 18 19 20      13 14 15 16 17 18 19\n",
      "17 18 19 20 21 22 23      21 22 23 24 25 26 27      20 21 22 23 24 25 26\n",
      "24 25 26 27 28 29 30      28 29                     27 28 29 30 31\n",
      "31\n",
      "\n",
      "       April                      May                       June\n",
      "Mo Tu We Th Fr Sa Su      Mo Tu We Th Fr Sa Su      Mo Tu We Th Fr Sa Su\n",
      "                1  2       1  2  3  4  5  6  7                1  2  3  4\n",
      " 3  4  5  6  7  8  9       8  9 10 11 12 13 14       5  6  7  8  9 10 11\n",
      "10 11 12 13 14 15 16      15 16 17 18 19 20 21      12 13 14 15 16 17 18\n",
      "17 18 19 20 21 22 23      22 23 24 25 26 27 28      19 20 21 22 23 24 25\n",
      "24 25 26 27 28 29 30      29 30 31                  26 27 28 29 30\n",
      "\n",
      "        July                     August                  September\n",
      "Mo Tu We Th Fr Sa Su      Mo Tu We Th Fr Sa Su      Mo Tu We Th Fr Sa Su\n",
      "                1  2          1  2  3  4  5  6                   1  2  3\n",
      " 3  4  5  6  7  8  9       7  8  9 10 11 12 13       4  5  6  7  8  9 10\n",
      "10 11 12 13 14 15 16      14 15 16 17 18 19 20      11 12 13 14 15 16 17\n",
      "17 18 19 20 21 22 23      21 22 23 24 25 26 27      18 19 20 21 22 23 24\n",
      "24 25 26 27 28 29 30      28 29 30 31               25 26 27 28 29 30\n",
      "31\n",
      "\n",
      "      October                   November                  December\n",
      "Mo Tu We Th Fr Sa Su      Mo Tu We Th Fr Sa Su      Mo Tu We Th Fr Sa Su\n",
      "                   1             1  2  3  4  5                   1  2  3\n",
      " 2  3  4  5  6  7  8       6  7  8  9 10 11 12       4  5  6  7  8  9 10\n",
      " 9 10 11 12 13 14 15      13 14 15 16 17 18 19      11 12 13 14 15 16 17\n",
      "16 17 18 19 20 21 22      20 21 22 23 24 25 26      18 19 20 21 22 23 24\n",
      "23 24 25 26 27 28 29      27 28 29 30               25 26 27 28 29 30 31\n",
      "30 31\n",
      "\n"
     ]
    }
   ],
   "source": [
    "import calendar\n",
    "year,mon=map(int,input(\"Enter year and month\").split())\n",
    "print(\"----------------Specific month-----------------\")\n",
    "print(calendar.month(year,mon))\n",
    "print(\"----------------Specific year------------------\")\n",
    "print(calendar.calendar(year))"
   ]
  },
  {
   "cell_type": "markdown",
   "id": "a54ea279",
   "metadata": {},
   "source": [
    "###  4. Write a Python program to solve quadratic equation?"
   ]
  },
  {
   "cell_type": "markdown",
   "id": "f0e141b8",
   "metadata": {},
   "source": [
    "- b<sup>2</sup> < 4*a*c --> roots are complex\n",
    "- b<sup>2</sup> = 4*a*c --> roots are real and equal\n",
    "- b<sup>2</sup> > 4*a*c --> roots are real and different"
   ]
  },
  {
   "cell_type": "code",
   "execution_count": 19,
   "id": "ad08f0d4",
   "metadata": {},
   "outputs": [
    {
     "name": "stdout",
     "output_type": "stream",
     "text": [
      "Enter a value: 1\n",
      "Enter b value: -7\n",
      "Enter c value: 10\n",
      "Roots are Real and Different\n",
      "Root-1 = 5.0 Root-2 = 2.0\n"
     ]
    }
   ],
   "source": [
    "import math as m\n",
    "a=int(input(\"Enter a value: \"))\n",
    "b=int(input(\"Enter b value: \"))\n",
    "c=int(input(\"Enter c value: \"))\n",
    "r=0\n",
    "if b**2 < (4*a*c):\n",
    "    print(\"Roots are Complex\")\n",
    "elif b**2 == (4*a*c):\n",
    "    print(\"Roots are Real and Equal\")\n",
    "    r=1\n",
    "elif b**2 > (4*a*c):\n",
    "    print(\"Roots are Real and Different\")\n",
    "    r=1\n",
    "if r == 1:\n",
    "    root_1=(-b+m.sqrt((b**2)-4*a*c))/2*a\n",
    "    root_2=(-b-m.sqrt((b**2)-4*a*c))/2*a\n",
    "    print(\"Root-1 = {} Root-2 = {}\".format(root_1,root_2))"
   ]
  },
  {
   "cell_type": "markdown",
   "id": "b541dcde",
   "metadata": {},
   "source": [
    "###  5. Write a Python program to swap two variables without temp variable?"
   ]
  },
  {
   "cell_type": "code",
   "execution_count": 7,
   "id": "66d88c93",
   "metadata": {},
   "outputs": [
    {
     "name": "stdout",
     "output_type": "stream",
     "text": [
      "Enter 2 values10 20\n",
      "Before Swapping number1 = 10 number2 = 20\n",
      "After Swapping number1 = 20 number2 = 10\n"
     ]
    }
   ],
   "source": [
    "num1,num2=map(int,input(\"Enter 2 values\").split())\n",
    "print(\"Before Swapping number1 = {} number2 = {}\".format(num1,num2))\n",
    "num1,num2=num2,num1\n",
    "print(\"After Swapping number1 = {} number2 = {}\".format(num1,num2))"
   ]
  }
 ],
 "metadata": {
  "kernelspec": {
   "display_name": "Python 3 (ipykernel)",
   "language": "python",
   "name": "python3"
  },
  "language_info": {
   "codemirror_mode": {
    "name": "ipython",
    "version": 3
   },
   "file_extension": ".py",
   "mimetype": "text/x-python",
   "name": "python",
   "nbconvert_exporter": "python",
   "pygments_lexer": "ipython3",
   "version": "3.9.12"
  }
 },
 "nbformat": 4,
 "nbformat_minor": 5
}
