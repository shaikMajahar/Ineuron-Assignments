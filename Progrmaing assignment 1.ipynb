{
 "cells": [
  {
   "cell_type": "markdown",
   "id": "22831332",
   "metadata": {},
   "source": [
    "### 1. Write a program to print \"Hello World\""
   ]
  },
  {
   "cell_type": "code",
   "execution_count": 1,
   "id": "bd2da0f1",
   "metadata": {},
   "outputs": [
    {
     "name": "stdout",
     "output_type": "stream",
     "text": [
      "Hello World\n",
      "Hello World\n"
     ]
    }
   ],
   "source": [
    "n=input()\n",
    "print(n)"
   ]
  },
  {
   "cell_type": "markdown",
   "id": "f690e88c",
   "metadata": {},
   "source": [
    "### 2. Write a python Program to do arthemetical operations addition and division? "
   ]
  },
  {
   "cell_type": "code",
   "execution_count": 2,
   "id": "552a3721",
   "metadata": {},
   "outputs": [
    {
     "name": "stdout",
     "output_type": "stream",
     "text": [
      "Enter any two integers10 5\n",
      "15\n",
      "5\n",
      "2.0\n"
     ]
    }
   ],
   "source": [
    "def add(val1,val2):\n",
    "    return val1+val2\n",
    "def sub(val1,val2):\n",
    "    return val1-val2\n",
    "def div(val1,val2):\n",
    "    return val1/val2\n",
    "num1,num2=map(int,input(\"Enter any two integers\").split())\n",
    "print(add(num1,num2))\n",
    "print(sub(num1,num2))\n",
    "print(div(num1,num2))"
   ]
  },
  {
   "cell_type": "markdown",
   "id": "485f7f6c",
   "metadata": {},
   "source": [
    "### 3.Write a Python program to find area of triangle"
   ]
  },
  {
   "cell_type": "code",
   "execution_count": 3,
   "id": "7ece05e5",
   "metadata": {},
   "outputs": [
    {
     "name": "stdout",
     "output_type": "stream",
     "text": [
      "Enter base value2\n",
      "Enter height value4\n",
      "Area of triangle is  4.0\n"
     ]
    }
   ],
   "source": [
    "base=int(input(\"Enter base value\"))\n",
    "height=int(input(\"Enter height value\"))\n",
    "print(\"Area of triangle is \",end=\" \")\n",
    "print(0.5*base*height)"
   ]
  },
  {
   "cell_type": "markdown",
   "id": "f756edae",
   "metadata": {},
   "source": [
    "### 4.Write a Program to swap two variables "
   ]
  },
  {
   "cell_type": "code",
   "execution_count": 4,
   "id": "e046866c",
   "metadata": {},
   "outputs": [
    {
     "name": "stdout",
     "output_type": "stream",
     "text": [
      "Enter 2 values10 20\n",
      "Before Swapping number1=10 number2=20\n",
      "After Swapping number1=20 number2=10\n"
     ]
    }
   ],
   "source": [
    "num1,num2=map(int,input(\"Enter 2 values\").split())\n",
    "print(\"Before Swapping number1={} number2={}\".format(num1,num2))\n",
    "temp=num1\n",
    "num1=num2\n",
    "num2=temp\n",
    "print(\"After Swapping number1={} number2={}\".format(num1,num2))\n"
   ]
  },
  {
   "cell_type": "markdown",
   "id": "0c260a99",
   "metadata": {},
   "source": [
    "### 5. Write a Python program to generate a random number?"
   ]
  },
  {
   "cell_type": "code",
   "execution_count": 5,
   "id": "37bc3b52",
   "metadata": {},
   "outputs": [
    {
     "name": "stdout",
     "output_type": "stream",
     "text": [
      "17\n"
     ]
    }
   ],
   "source": [
    "import random as ra\n",
    "print(ra.randint(0,40))"
   ]
  }
 ],
 "metadata": {
  "kernelspec": {
   "display_name": "Python 3 (ipykernel)",
   "language": "python",
   "name": "python3"
  },
  "language_info": {
   "codemirror_mode": {
    "name": "ipython",
    "version": 3
   },
   "file_extension": ".py",
   "mimetype": "text/x-python",
   "name": "python",
   "nbconvert_exporter": "python",
   "pygments_lexer": "ipython3",
   "version": "3.9.12"
  }
 },
 "nbformat": 4,
 "nbformat_minor": 5
}
